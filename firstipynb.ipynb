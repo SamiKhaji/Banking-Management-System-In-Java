{
  "nbformat": 4,
  "nbformat_minor": 0,
  "metadata": {
    "colab": {
      "provenance": [],
      "authorship_tag": "ABX9TyOBGAZM8gees2b8bqSmnifV",
      "include_colab_link": true
    },
    "kernelspec": {
      "name": "python3",
      "display_name": "Python 3"
    },
    "language_info": {
      "name": "python"
    }
  },
  "cells": [
    {
      "cell_type": "markdown",
      "metadata": {
        "id": "view-in-github",
        "colab_type": "text"
      },
      "source": [
        "<a href=\"https://colab.research.google.com/github/SamiKhaji/Banking-Management-System-In-Java/blob/main/firstipynb.ipynb\" target=\"_parent\"><img src=\"https://colab.research.google.com/assets/colab-badge.svg\" alt=\"Open In Colab\"/></a>"
      ]
    },
    {
      "cell_type": "code",
      "execution_count": 7,
      "metadata": {
        "colab": {
          "base_uri": "https://localhost:8080/"
        },
        "id": "qdnYnFjUzNKh",
        "outputId": "34a08993-2fed-4a95-f7e6-8d2659cf823f"
      },
      "outputs": [
        {
          "output_type": "stream",
          "name": "stdout",
          "text": [
            "09:11:42.281028\n",
            "hello sami\n"
          ]
        }
      ],
      "source": [
        "import datetime\n",
        "now=datetime.datetime.now()\n",
        "print(now.time())\n",
        "print(\"hello sami\")\n",
        "\n"
      ]
    }
  ]
}